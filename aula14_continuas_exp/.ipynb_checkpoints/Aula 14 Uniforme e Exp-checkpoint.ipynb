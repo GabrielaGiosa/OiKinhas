{
 "cells": [
  {
   "cell_type": "markdown",
   "metadata": {},
   "source": [
    "# Distribuições contínuas - exponencial"
   ]
  },
  {
   "cell_type": "code",
   "execution_count": 2,
   "metadata": {},
   "outputs": [],
   "source": [
    "import numpy as np\n",
    "from scipy.stats import expon, norm, uniform\n",
    "from scipy import stats\n",
    "\n",
    "import matplotlib.pyplot as plt\n",
    "%matplotlib inline"
   ]
  },
  {
   "cell_type": "markdown",
   "metadata": {},
   "source": [
    "A durabilidade (em anos) de uma dobradiça de porta de carro é modelada como uma exponencial com média 8 anos. "
   ]
  },
  {
   "cell_type": "markdown",
   "metadata": {},
   "source": [
    "### Atividade 1"
   ]
  },
  {
   "cell_type": "markdown",
   "metadata": {},
   "source": [
    "Plote esta  exponencial  e sua cumulativa\n",
    "\n",
    "Dica: Entenda as funções `expon.cdf` e `expon.pdf` , que se encontram no pacote `scipy.stats`\n",
    "\n",
    "O parâmetro da exponencial é o mesmo `alpha` que vimos em aula"
   ]
  },
  {
   "cell_type": "code",
   "execution_count": 5,
   "metadata": {},
   "outputs": [],
   "source": [
    "media = 8"
   ]
  },
  {
   "cell_type": "code",
   "execution_count": 7,
   "metadata": {},
   "outputs": [
    {
     "data": {
      "text/plain": [
       "[<matplotlib.lines.Line2D at 0x26cb1a11588>]"
      ]
     },
     "execution_count": 7,
     "metadata": {},
     "output_type": "execute_result"
    },
    {
     "data": {
      "image/png": "[encoded data removed]",
      "text/plain": [
       "<Figure size 432x288 with 1 Axes>"
      ]
     },
     "metadata": {
      "needs_background": "light"
     },
     "output_type": "display_data"
    }
   ],
   "source": [
    "x = np.linspace(-0.2, 30, 1000)\n",
    "y = expon.pdf(x, scale=media)\n",
    "plt.plot(x, y)"
   ]
  },
  {
   "cell_type": "markdown",
   "metadata": {},
   "source": [
    "### Atividade 2"
   ]
  },
  {
   "cell_type": "markdown",
   "metadata": {},
   "source": [
    "Dada que uma porta de carro já durou 9 anos, qual a probabilidade que dure mais um ano?"
   ]
  },
  {
   "cell_type": "code",
   "execution_count": null,
   "metadata": {},
   "outputs": [],
   "source": []
  },
  {
   "cell_type": "markdown",
   "metadata": {},
   "source": [
    "### Atividade 3"
   ]
  },
  {
   "cell_type": "markdown",
   "metadata": {},
   "source": [
    "Você recebeu os seguintes dados de durabilidade de transistores de potência usados em regulação de redes elétricas.\n",
    "\n"
   ]
  },
  {
   "cell_type": "code",
   "execution_count": null,
   "metadata": {},
   "outputs": [],
   "source": [
    "valores = '3.4218 0.2111 2.2059 0.0397 2.9134 8.3913 1.2856 3.3964 0.315 0.5182 1.1565 1.9321 0.5919 0.0107 2.6629 0.8153 1.6982 1.3419 1.6502 2.1988 1.914 0.709 0.7861 0.336 0.3225 3.6628 0.6506 0.7902 2.8865 1.0322 0.864 8.5972 1.2537 2.8588 1.7099 1.001 2.8241 1.2219 4.1361 2.4041 5.244 0.2697 0.3624 1.4543 1.0004 0.3742 1.2848 1.0695 3.6782 1.1079 0.4894 0.0829 1.5122 0.801 0.0054 0.0424 0.6739 0.1112 0.5164 0.5854 0.226 0.714 0.6601 2.2225 0.4138 0.9848 1.1117 1.0258 1.7904 0.8189 0.5434 1.7052 0.8123 1.5717 0.2317 1.6345 0.2346 0.0357 0.3985 2.5279 5.5433 0.691 1.883 0.7099 1.5211 1.7502 1.8272 1.7279 1.6961 0.8073 0.4369 1.5018 3.4474 1.7326 0.5443 0.2244 1.8128 0.4304 2.2489 2.9003'"
   ]
  },
  {
   "cell_type": "code",
   "execution_count": null,
   "metadata": {},
   "outputs": [],
   "source": [
    "valores_f = [float(v) for v in valores.split()]"
   ]
  },
  {
   "cell_type": "markdown",
   "metadata": {},
   "source": [
    "Faça o histogram dos valores e avalie se faz sentido que venham de uma distribuição exponencial\n"
   ]
  },
  {
   "cell_type": "markdown",
   "metadata": {},
   "source": [
    "### Atividade 4\n",
    "\n",
    "Descubra como usar a função `probplot` para poder avaliar se faz sentido que os dados tenham vindo de uma exponencial. \n",
    "\n",
    "Responda: faz sentido?\n"
   ]
  },
  {
   "cell_type": "code",
   "execution_count": null,
   "metadata": {},
   "outputs": [],
   "source": []
  },
  {
   "cell_type": "markdown",
   "metadata": {},
   "source": [
    "### Atividade 5\n",
    "\n",
    "Usando `expon.fit` obtenha o possível valor de $\\alpha$ da distribuição exponencial que poderia ajustar os dados. Visualize o resultado"
   ]
  },
  {
   "cell_type": "code",
   "execution_count": null,
   "metadata": {},
   "outputs": [],
   "source": []
  }
 ],
 "metadata": {
  "kernelspec": {
   "display_name": "Python 3",
   "language": "python",
   "name": "python3"
  },
  "language_info": {
   "codemirror_mode": {
    "name": "ipython",
    "version": 3
   },
   "file_extension": ".py",
   "mimetype": "text/x-python",
   "name": "python",
   "nbconvert_exporter": "python",
   "pygments_lexer": "ipython3",
   "version": "3.7.1"
  }
 },
 "nbformat": 4,
 "nbformat_minor": 2
}
